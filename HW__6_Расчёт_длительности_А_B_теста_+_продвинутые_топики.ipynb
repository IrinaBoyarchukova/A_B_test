{
  "nbformat": 4,
  "nbformat_minor": 0,
  "metadata": {
    "colab": {
      "provenance": [],
      "authorship_tag": "ABX9TyPBurpt3N9PWM/FPo2KBdQg",
      "include_colab_link": true
    },
    "kernelspec": {
      "name": "python3",
      "display_name": "Python 3"
    },
    "language_info": {
      "name": "python"
    }
  },
  "cells": [
    {
      "cell_type": "markdown",
      "metadata": {
        "id": "view-in-github",
        "colab_type": "text"
      },
      "source": [
        "<a href=\"https://colab.research.google.com/github/IrinaBoyarchukova/A_B_test/blob/main/HW__6_%D0%A0%D0%B0%D1%81%D1%87%D1%91%D1%82_%D0%B4%D0%BB%D0%B8%D1%82%D0%B5%D0%BB%D1%8C%D0%BD%D0%BE%D1%81%D1%82%D0%B8_%D0%90_B_%D1%82%D0%B5%D1%81%D1%82%D0%B0_%2B_%D0%BF%D1%80%D0%BE%D0%B4%D0%B2%D0%B8%D0%BD%D1%83%D1%82%D1%8B%D0%B5_%D1%82%D0%BE%D0%BF%D0%B8%D0%BA%D0%B8.ipynb\" target=\"_parent\"><img src=\"https://colab.research.google.com/assets/colab-badge.svg\" alt=\"Open In Colab\"/></a>"
      ]
    },
    {
      "cell_type": "markdown",
      "source": [
        "**Задача 1**\n",
        "Продакт на главной mail.ru решил протестировать в рекомендательной ленте контента вместо карточек со статьями видеоплеер с короткими видео. Нынешний таймспент на юзера в день в среднем равен 25 минут, а стандартная ошибка (SD) равна 156. Мы предполагаем, что в новой версии таймспент на юзера в день изменится на 10%. Средний трафик 20000 человек в день. Посчитайте сколько дней необходимо держать эксперимент при alpha = 5% и beta = 20% .\n",
        "\n"
      ],
      "metadata": {
        "id": "v7aVQf4umZfA"
      }
    },
    {
      "cell_type": "code",
      "source": [
        "# импорт необходимых библиотек\n",
        "from statsmodels.stats.power import tt_ind_solve_power, zt_ind_solve_power\n",
        "from statsmodels.stats.proportion import proportion_effectsize\n",
        "from statsmodels.stats.meta_analysis import effectsize_smd\n",
        "from typing import Union\n",
        "import plotly.graph_objects as go\n",
        "from scipy import stats\n",
        "from math import asin\n",
        "import numpy as np\n"
      ],
      "metadata": {
        "id": "5xoz9H9imr9F"
      },
      "execution_count": 1,
      "outputs": []
    },
    {
      "cell_type": "markdown",
      "source": [
        "Показатель time speeak количественный используем TT тест"
      ],
      "metadata": {
        "id": "rpue1x8Cm-3m"
      }
    },
    {
      "cell_type": "code",
      "source": [
        "#Расчёт effect_size для пропорций\n",
        "def calc_propotion_effect_size(conv_1: int, nobs_1: int, conv_2: int, nobs_2: int):\n",
        "    prob_1, prob_2 = conv_1 / nobs_1, conv_2 / nobs_2\n",
        "    \n",
        "    es_formula = 2  * asin(np.sqrt(prob_1)) - 2 * asin(np.sqrt(prob_2))\n",
        "    es_import = proportion_effectsize(prob_1, prob_2)\n",
        "    \n",
        "    return es_formula, es_import\n",
        "\n"
      ],
      "metadata": {
        "id": "WCXLE_V6nKIQ"
      },
      "execution_count": 24,
      "outputs": []
    },
    {
      "cell_type": "code",
      "source": [
        "mu_control, mu_test = 20000, 22000\n",
        "std_control, std_test = 25, 156*1.15 \n",
        "\n",
        "calc_continuous_effect_size(mean_1=mu_control, std_1=std_control, mean_2=mu_test, std_2=std_test)"
      ],
      "metadata": {
        "colab": {
          "base_uri": "https://localhost:8080/"
        },
        "id": "9hAiSLlinM9T",
        "outputId": "e987c26c-91dd-4b6c-ce90-2779373ad2e2"
      },
      "execution_count": 25,
      "outputs": [
        {
          "output_type": "execute_result",
          "data": {
            "text/plain": [
              "(-15.615148332720802, -15.614562698774506)"
            ]
          },
          "metadata": {},
          "execution_count": 25
        }
      ]
    },
    {
      "cell_type": "code",
      "source": [
        "effect_size = calc_continuous_effect_size(mean_1=mu_control, std_1=std_control, mean_2=mu_test, std_2=std_test)[0]\n",
        "calc_sample_size_continuous(effect_size=effect_size, alpha=.05, beta=.2)"
      ],
      "metadata": {
        "colab": {
          "base_uri": "https://localhost:8080/"
        },
        "id": "3A2dK_4Np1Xk",
        "outputId": "69e570d1-46bf-436d-b0f6-f2bcde2c9b74"
      },
      "execution_count": 26,
      "outputs": [
        {
          "output_type": "stream",
          "name": "stderr",
          "text": [
            "/usr/local/lib/python3.9/dist-packages/statsmodels/stats/power.py:415: ConvergenceWarning: \n",
            "Failed to converge on a solution.\n",
            "\n",
            "  warnings.warn(convergence_doc, ConvergenceWarning)\n"
          ]
        },
        {
          "output_type": "execute_result",
          "data": {
            "text/plain": [
              "20"
            ]
          },
          "metadata": {},
          "execution_count": 26
        }
      ]
    },
    {
      "cell_type": "markdown",
      "source": [
        "**Задача 2**\n",
        "Наша продуктовая команда в ecommerce магазине планирует запустить тест, направленный на ускорение загрузки сайта. Одна из основных метрик bounce rate в GA = 40%. Мы предполагаем, что при оптимизации сайта она изменится минимум на 20%.Средний трафик 4000 человек в день. Посчитайте сколько нам нужно дней держать эксперимент при alpha = 5% и beta = 20%"
      ],
      "metadata": {
        "id": "8Yt1wJXlmibe"
      }
    },
    {
      "cell_type": "markdown",
      "source": [
        "Отказы показатель качественный, т к проценты"
      ],
      "metadata": {
        "id": "1eluOr3mv7a6"
      }
    },
    {
      "cell_type": "code",
      "source": [
        "conv_1, conv_2 = 32, 48\n",
        "nobs_1, nobs_2 = 4000, 4000\n",
        "prob_1, prob_2 = conv_1 / nobs_1, conv_2 / nobs_2\n",
        "\n",
        "calc_propotion_effect_size(conv_1=conv_1, nobs_1=nobs_1, conv_2=conv_2, nobs_2=nobs_2)"
      ],
      "metadata": {
        "colab": {
          "base_uri": "https://localhost:8080/"
        },
        "id": "cghy5qtUq2cZ",
        "outputId": "3036ee25-290e-413b-867c-c62ba5dfe5a5"
      },
      "execution_count": 32,
      "outputs": [
        {
          "output_type": "execute_result",
          "data": {
            "text/plain": [
              "(-0.04040476937103962, -0.04040476937103962)"
            ]
          },
          "metadata": {},
          "execution_count": 32
        }
      ]
    },
    {
      "cell_type": "code",
      "source": [
        "effect_size = calc_propotion_effect_size(conv_1=conv_1, nobs_1=nobs_1, conv_2=conv_2, nobs_2=nobs_2)[0]\n",
        "calc_sample_size_proportion(effect_size=effect_size, alpha=.05, beta=.2)"
      ],
      "metadata": {
        "colab": {
          "base_uri": "https://localhost:8080/"
        },
        "id": "tois1tsttYEz",
        "outputId": "0f367390-ae75-48f9-ea44-399510d6554f"
      },
      "execution_count": 33,
      "outputs": [
        {
          "output_type": "execute_result",
          "data": {
            "text/plain": [
              "19230"
            ]
          },
          "metadata": {},
          "execution_count": 33
        }
      ]
    }
  ]
}
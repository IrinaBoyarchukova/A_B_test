{
  "nbformat": 4,
  "nbformat_minor": 0,
  "metadata": {
    "colab": {
      "provenance": [],
      "authorship_tag": "ABX9TyMJnPrQ+zqD/wbG4UQwTtQd",
      "include_colab_link": true
    },
    "kernelspec": {
      "name": "python3",
      "display_name": "Python 3"
    },
    "language_info": {
      "name": "python"
    }
  },
  "cells": [
    {
      "cell_type": "markdown",
      "metadata": {
        "id": "view-in-github",
        "colab_type": "text"
      },
      "source": [
        "<a href=\"https://colab.research.google.com/github/IrinaBoyarchukova/A_B_test/blob/main/HW_5_%D0%9F%D1%80%D0%B8%D0%BC%D0%B5%D0%BD%D0%B5%D0%BD%D0%B8%D0%B5_%D0%BC%D0%B0%D1%82%D0%B5%D0%BC%D0%B0%D1%82%D0%B8%D1%87%D0%B5%D1%81%D0%BA%D0%BE%D0%B9_%D1%81%D1%82%D0%B0%D1%82%D0%B8%D1%81%D1%82%D0%B8%D0%BA%D0%B8_%D0%B4%D0%BB%D1%8F_%D0%BF%D1%80%D0%BE%D0%B2%D0%B5%D1%80%D0%BA%D0%B8_%D0%B3%D0%B8%D0%BF%D0%BE%D1%82%D0%B5%D0%B7_%D0%B2_%D1%80%D0%B5%D0%B0%D0%BB%D1%8C%D0%BD%D0%BE%D0%B9_%D0%B6%D0%B8%D0%B7%D0%BD%D0%B8_%D0%B4%D0%BB%D1%8F_%D0%BF%D0%BE%D0%BF%D1%83%D0%BB%D1%8F%D1%80%D0%BD%D1%8B%D1%85_%D0%BC%D0%B5%D1%82%D1%80%D0%B8%D0%BA.ipynb\" target=\"_parent\"><img src=\"https://colab.research.google.com/assets/colab-badge.svg\" alt=\"Open In Colab\"/></a>"
      ]
    },
    {
      "cell_type": "markdown",
      "source": [
        "# Задача 2 \n",
        "Сравниваем метрику конверсия в покупку. Размер выборки - 10000 элементов в каждой группе . Какой статистический критерий тут лучше всего подойдёт и почему ?"
      ],
      "metadata": {
        "id": "c91ZzlCp-pxu"
      }
    },
    {
      "cell_type": "code",
      "source": [
        "from statsmodels.stats.proportion import proportion_effectsize\n",
        "from statsmodels.stats.power import TTestIndPower\n",
        "\n",
        "\n",
        "baseline_cr = 0.2 # базовый уровень конверсии\n",
        "min_effect = 0.05 # минимальный значимый результат\n",
        "\n",
        "effect_size = proportion_effectsize(baseline_cr, baseline_cr + min_effect)\n",
        "\n",
        "\n",
        "alpha = 0.05 # уровень значимости\n",
        "power = 0.8  #уровень мощности\n",
        "power_analysis = TTestIndPower()\n",
        "sample_size = power_analysis.solve_power(effect_size, power=power, alpha=alpha, alternative='two-sided')\n",
        "\n",
        "print(f\"Необходимый размер выборки: {sample_size:.0f}\")"
      ],
      "metadata": {
        "id": "FAy8JZeX-s7b"
      },
      "execution_count": null,
      "outputs": []
    },
    {
      "cell_type": "code",
      "source": [
        "import numpy as np\n",
        "import scipy.stats as stats\n",
        "\n",
        "# Загрузите данные в переменные\n",
        "group_A = [1, 10000]\n",
        "group_B = [2, 10001]\n",
        "\n",
        "# Запустите тест\n",
        "chi2, p, dof, ex = stats.chi2_contingency([group_A, group_B], correction=False)\n",
        "\n",
        "# Рассчитайте доверительный интервал для изменения\n",
        "lift = (group_B[0]/group_B[1])/(group_A[0]/group_A[1])\n",
        "std_error = np.sqrt(1/group_B[0] + 1/group_B[1] + 1/group_A[0] + 1/group_A[1])\n",
        "ci = stats.norm.interval(0.95, loc=lift, scale=std_error)\n",
        "\n",
        "# Выводим результаты\n",
        "print(\"Хи-квадрат p-value: \", p)\n",
        "print(\"Доверительный интервал изменения: \", ci)\n",
        "\n",
        "# Проверяем есть ли изменение\n",
        "if p < 0.05 and ci[0] > 1:\n",
        "    print(\"Вариант лучше.\")\n",
        "else:\n",
        "    print(\"Разницы нет.\")"
      ],
      "metadata": {
        "colab": {
          "base_uri": "https://localhost:8080/"
        },
        "id": "mVFdlIao9dfM",
        "outputId": "381450cc-621c-427c-9f65-750a30a75b39"
      },
      "execution_count": null,
      "outputs": [
        {
          "output_type": "stream",
          "name": "stdout",
          "text": [
            "Хи-квадрат p-value:  0.5637905872744118\n",
            "Доверительный интервал изменения:  (-0.40081583523469, 4.40041587523069)\n",
            "Разницы нет.\n"
          ]
        }
      ]
    },
    {
      "cell_type": "markdown",
      "source": [
        "# Задача 1\n",
        "1)Вы провели эксперимент c упрощением формы заказа в магазине Утконос и получили результаты по метрике конверсий в покупку. Выберите метод оценки и оцените есть ли стат.значимые различия между конверсиями в двух группах при alpha = 5%. Дайте краткие рекомендации команде .Результаты: 1)Число юзеров в группах , которые заходили на сайт в период эксперимента: n1 = 15550 и n2 = 15550 . 2) Число юзеров в группах , которые совершили хотя бы одну покупку за период эксперимента: n1 = 164 и n2 = 228 3) Конверсии : conv1 = 1.05% conv2 = 1.47% ."
      ],
      "metadata": {
        "id": "f5DfwnSOBQM7"
      }
    },
    {
      "cell_type": "code",
      "source": [
        "from math import sqrt\n",
        "import scipy.stats\n",
        "\n"
      ],
      "metadata": {
        "id": "npsiQcbABaGT"
      },
      "execution_count": 19,
      "outputs": []
    },
    {
      "cell_type": "code",
      "source": [
        "def calc_z_di(total_control,total_test, n_control, n_test):\n",
        "    сonv_control=n_control/total_control\n",
        "    conv_test=n_test/total_test\n",
        "    Lift=(conv_test-сonv_control)/сonv_control\n",
        "    SE_control = sqrt(сonv_control*(1-сonv_control)/total_control)\n",
        "    SE_test = sqrt(conv_test *(1 -conv_test)/total_test)  \n",
        "    SE_diff = sqrt(SE_control**2+SE_test**2)\n",
        "    z_core=(conv_test-сonv_control)/SE_diff\n",
        "    p.value=scipy.stats.norm.sf(abs(z_core))**2\n",
        "    left=conv_test-сonv_control-1.96*SE_diff\n",
        "    right=conv_test-сonv_control-1.96*SE_diff\n",
        "\n",
        "    result = { \"lift\":lift,\n",
        "     \"se_control\":SE_control,\n",
        "     \"se_test\":SE_test,\n",
        "     \"z_core\":z_core,\n",
        "     \"p.valuep\":p.value,\n",
        "     \"ci\":[left, right] }\n",
        "     \n",
        "return result \n",
        "calc_z_di (total_control=15500,total_test=15500,n_control=164, n_test=228)"
      ],
      "metadata": {
        "colab": {
          "base_uri": "https://localhost:8080/",
          "height": 130
        },
        "id": "PlEzpqWm5DKf",
        "outputId": "394add83-2a34-4967-ff3e-2ae45ced433b"
      },
      "execution_count": 20,
      "outputs": [
        {
          "output_type": "error",
          "ename": "SyntaxError",
          "evalue": "ignored",
          "traceback": [
            "\u001b[0;36m  File \u001b[0;32m\"<ipython-input-20-32a7eea7d6cb>\"\u001b[0;36m, line \u001b[0;32m20\u001b[0m\n\u001b[0;31m    return result\u001b[0m\n\u001b[0m    ^\u001b[0m\n\u001b[0;31mSyntaxError\u001b[0m\u001b[0;31m:\u001b[0m 'return' outside function\n"
          ]
        }
      ]
    }
  ]
}
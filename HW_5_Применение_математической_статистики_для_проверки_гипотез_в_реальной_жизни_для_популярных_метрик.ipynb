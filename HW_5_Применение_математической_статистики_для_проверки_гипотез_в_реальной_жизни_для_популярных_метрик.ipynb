{
  "nbformat": 4,
  "nbformat_minor": 0,
  "metadata": {
    "colab": {
      "provenance": [],
      "authorship_tag": "ABX9TyN212hrTuyCUwceDMlhhDPH",
      "include_colab_link": true
    },
    "kernelspec": {
      "name": "python3",
      "display_name": "Python 3"
    },
    "language_info": {
      "name": "python"
    }
  },
  "cells": [
    {
      "cell_type": "markdown",
      "metadata": {
        "id": "view-in-github",
        "colab_type": "text"
      },
      "source": [
        "<a href=\"https://colab.research.google.com/github/IrinaBoyarchukova/A_B_test/blob/main/HW_5_%D0%9F%D1%80%D0%B8%D0%BC%D0%B5%D0%BD%D0%B5%D0%BD%D0%B8%D0%B5_%D0%BC%D0%B0%D1%82%D0%B5%D0%BC%D0%B0%D1%82%D0%B8%D1%87%D0%B5%D1%81%D0%BA%D0%BE%D0%B9_%D1%81%D1%82%D0%B0%D1%82%D0%B8%D1%81%D1%82%D0%B8%D0%BA%D0%B8_%D0%B4%D0%BB%D1%8F_%D0%BF%D1%80%D0%BE%D0%B2%D0%B5%D1%80%D0%BA%D0%B8_%D0%B3%D0%B8%D0%BF%D0%BE%D1%82%D0%B5%D0%B7_%D0%B2_%D1%80%D0%B5%D0%B0%D0%BB%D1%8C%D0%BD%D0%BE%D0%B9_%D0%B6%D0%B8%D0%B7%D0%BD%D0%B8_%D0%B4%D0%BB%D1%8F_%D0%BF%D0%BE%D0%BF%D1%83%D0%BB%D1%8F%D1%80%D0%BD%D1%8B%D1%85_%D0%BC%D0%B5%D1%82%D1%80%D0%B8%D0%BA.ipynb\" target=\"_parent\"><img src=\"https://colab.research.google.com/assets/colab-badge.svg\" alt=\"Open In Colab\"/></a>"
      ]
    },
    {
      "cell_type": "markdown",
      "source": [
        "# Задача 2 \n",
        "Сравниваем метрику конверсия в покупку. Размер выборки - 10000 элементов в каждой группе . Какой статистический критерий тут лучше всего подойдёт и почему ?"
      ],
      "metadata": {
        "id": "c91ZzlCp-pxu"
      }
    },
    {
      "cell_type": "code",
      "source": [
        "from statsmodels.stats.proportion import proportion_effectsize\n",
        "from statsmodels.stats.power import TTestIndPower\n",
        "\n",
        "\n",
        "baseline_cr = 0.2 # базовый уровень конверсии\n",
        "min_effect = 0.05 # минимальный значимый результат\n",
        "\n",
        "effect_size = proportion_effectsize(baseline_cr, baseline_cr + min_effect)\n",
        "\n",
        "\n",
        "alpha = 0.05 # уровень значимости\n",
        "power = 0.8  #уровень мощности\n",
        "power_analysis = TTestIndPower()\n",
        "sample_size = power_analysis.solve_power(effect_size, power=power, alpha=alpha, alternative='two-sided')\n",
        "\n",
        "print(f\"Необходимый размер выборки: {sample_size:.0f}\")"
      ],
      "metadata": {
        "id": "FAy8JZeX-s7b"
      },
      "execution_count": null,
      "outputs": []
    },
    {
      "cell_type": "code",
      "source": [
        "import numpy as np\n",
        "import scipy.stats as stats\n",
        "\n",
        "# Загрузите данные в переменные\n",
        "group_A = [1, 10000]\n",
        "group_B = [2, 10001]\n",
        "\n",
        "# Запустите тест\n",
        "chi2, p, dof, ex = stats.chi2_contingency([group_A, group_B], correction=False)\n",
        "\n",
        "# Рассчитайте доверительный интервал для изменения\n",
        "lift = (group_B[0]/group_B[1])/(group_A[0]/group_A[1])\n",
        "std_error = np.sqrt(1/group_B[0] + 1/group_B[1] + 1/group_A[0] + 1/group_A[1])\n",
        "ci = stats.norm.interval(0.95, loc=lift, scale=std_error)\n",
        "\n",
        "# Выводим результаты\n",
        "print(\"Хи-квадрат p-value: \", p)\n",
        "print(\"Доверительный интервал изменения: \", ci)\n",
        "\n",
        "# Проверяем есть ли изменение\n",
        "if p < 0.05 and ci[0] > 1:\n",
        "    print(\"Вариант лучше.\")\n",
        "else:\n",
        "    print(\"Разницы нет.\")"
      ],
      "metadata": {
        "colab": {
          "base_uri": "https://localhost:8080/"
        },
        "id": "mVFdlIao9dfM",
        "outputId": "381450cc-621c-427c-9f65-750a30a75b39"
      },
      "execution_count": 4,
      "outputs": [
        {
          "output_type": "stream",
          "name": "stdout",
          "text": [
            "Хи-квадрат p-value:  0.5637905872744118\n",
            "Доверительный интервал изменения:  (-0.40081583523469, 4.40041587523069)\n",
            "Разницы нет.\n"
          ]
        }
      ]
    }
  ]
}
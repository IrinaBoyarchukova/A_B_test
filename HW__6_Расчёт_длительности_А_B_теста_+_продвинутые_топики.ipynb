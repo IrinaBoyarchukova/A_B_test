{
  "nbformat": 4,
  "nbformat_minor": 0,
  "metadata": {
    "colab": {
      "provenance": [],
      "authorship_tag": "ABX9TyOlv7CXarZF8KCn9LeJIx2x",
      "include_colab_link": true
    },
    "kernelspec": {
      "name": "python3",
      "display_name": "Python 3"
    },
    "language_info": {
      "name": "python"
    }
  },
  "cells": [
    {
      "cell_type": "markdown",
      "metadata": {
        "id": "view-in-github",
        "colab_type": "text"
      },
      "source": [
        "<a href=\"https://colab.research.google.com/github/IrinaBoyarchukova/A_B_test/blob/main/HW__6_%D0%A0%D0%B0%D1%81%D1%87%D1%91%D1%82_%D0%B4%D0%BB%D0%B8%D1%82%D0%B5%D0%BB%D1%8C%D0%BD%D0%BE%D1%81%D1%82%D0%B8_%D0%90_B_%D1%82%D0%B5%D1%81%D1%82%D0%B0_%2B_%D0%BF%D1%80%D0%BE%D0%B4%D0%B2%D0%B8%D0%BD%D1%83%D1%82%D1%8B%D0%B5_%D1%82%D0%BE%D0%BF%D0%B8%D0%BA%D0%B8.ipynb\" target=\"_parent\"><img src=\"https://colab.research.google.com/assets/colab-badge.svg\" alt=\"Open In Colab\"/></a>"
      ]
    },
    {
      "cell_type": "markdown",
      "source": [
        "**Задача 1**\n",
        "Продакт на главной mail.ru решил протестировать в рекомендательной ленте контента вместо карточек со статьями видеоплеер с короткими видео. Нынешний таймспент на юзера в день в среднем равен 25 минут, а стандартная ошибка (SD) равна 156. Мы предполагаем, что в новой версии таймспент на юзера в день изменится на 10%. Средний трафик 20000 человек в день. Посчитайте сколько дней необходимо держать эксперимент при alpha = 5% и beta = 20% .\n",
        "\n"
      ],
      "metadata": {
        "id": "v7aVQf4umZfA"
      }
    },
    {
      "cell_type": "code",
      "source": [
        "# импорт необходимых библиотек\n",
        "from statsmodels.stats.power import tt_ind_solve_power, zt_ind_solve_power\n",
        "from statsmodels.stats.proportion import proportion_effectsize\n",
        "from statsmodels.stats.meta_analysis import effectsize_smd\n",
        "from typing import Union\n",
        "import plotly.graph_objects as go\n",
        "from scipy import stats\n",
        "from math import asin\n",
        "import numpy as np\n"
      ],
      "metadata": {
        "id": "5xoz9H9imr9F"
      },
      "execution_count": 7,
      "outputs": []
    },
    {
      "cell_type": "markdown",
      "source": [
        "Показатель time speeak количественный используем TT тест"
      ],
      "metadata": {
        "id": "rpue1x8Cm-3m"
      }
    },
    {
      "cell_type": "code",
      "source": [
        "def calc_proportion_es(prob1: float, prob2: float):\n",
        "    \n",
        "    return abs(proportion_effectsize(prob1, prob2))\n",
        "\n",
        "def calc_proportion_es_alt(conv1: float, conv2:float, prob1:float, prob2: float):\n",
        "    \n",
        "    return 2  * asin(np.sqrt(conv1/nobs1)) - 2 * asin(np.sqrt(conv2/nobs2))\n",
        "\n",
        "def calc_continuous_es(mean_control: Union[float, int],\n",
        "                       std_control: Union[float, int],\n",
        "                       mean_test: Union[float, int],\n",
        "                       std_test: Union[float, int]):\n",
        "    \n",
        "    return abs(effectsize_smd(mean_control,\n",
        "                              std_control,\n",
        "                              1e4,\n",
        "                              mean_test,\n",
        "                              std_test,\n",
        "                              1e4)[0])\n",
        "\n",
        "def calc_continuous_es_alt(mean_control: Union[float, int],\n",
        "                           std_control: Union[float, int],\n",
        "                           mean_test: Union[float, int],\n",
        "                           std_test: Union[float, int]):\n",
        "    \n",
        "    effect_size = (mean_test - mean_control) / ((std_control**2 + std_test**2) / 2) ** 0.5\n",
        "    return effect_size\n",
        "    \n",
        "def calc_sample_size_continuous(effect_size: float,\n",
        "                     alpha: float = .05,\n",
        "                     beta: float = .2,\n",
        "                     ratio: Union[float, int] = 1):\n",
        "    \n",
        "    n = tt_ind_solve_power(effect_size=effect_size,\n",
        "                           alpha=alpha,\n",
        "                           power=(1 - beta),\n",
        "                           ratio=ratio,\n",
        "                  )\n",
        "    return int(n * 2)\n",
        "\n",
        "def calc_sample_size_proportion(effect_size: float,\n",
        "                     alpha: float = .05,\n",
        "                     beta: float = .2,\n",
        "                     ratio: Union[float, int] = 1):\n",
        "    \n",
        "    n = zt_ind_solve_power(effect_size=effect_size,\n",
        "                           alpha=alpha,\n",
        "                           power=(1 - beta),\n",
        "                           ratio=ratio,\n",
        "                  )\n",
        "    return int(n * 2)"
      ],
      "metadata": {
        "id": "WCXLE_V6nKIQ"
      },
      "execution_count": 8,
      "outputs": []
    },
    {
      "cell_type": "code",
      "source": [
        "ts_control, ts_test = 25, 27.5\n",
        "std_control, std_test = 156, 156 * 1.15\n",
        "\n",
        "es_cont = calc_continuous_es(ts_control, std_control, ts_test, std_test)\n",
        "es_cont_alt = calc_continuous_es_alt(ts_control, std_control, ts_test, std_test)\n",
        "es_cont, es_cont_alt"
      ],
      "metadata": {
        "colab": {
          "base_uri": "https://localhost:8080/"
        },
        "id": "9hAiSLlinM9T",
        "outputId": "a0172fdf-b16c-442d-bf2c-154c133a351a"
      },
      "execution_count": 9,
      "outputs": [
        {
          "output_type": "execute_result",
          "data": {
            "text/plain": [
              "(0.014870865944557932, 0.014871423685692022)"
            ]
          },
          "metadata": {},
          "execution_count": 9
        }
      ]
    },
    {
      "cell_type": "code",
      "source": [
        "calc_sample_size_continuous(es_cont), calc_sample_size_continuous(es_cont_alt)"
      ],
      "metadata": {
        "colab": {
          "base_uri": "https://localhost:8080/"
        },
        "id": "3A2dK_4Np1Xk",
        "outputId": "54127fdc-333c-4e84-a7b9-f9f5b54e2845"
      },
      "execution_count": 10,
      "outputs": [
        {
          "output_type": "stream",
          "name": "stderr",
          "text": [
            "/usr/local/lib/python3.9/dist-packages/scipy/stats/_continuous_distns.py:6832: RuntimeWarning: invalid value encountered in _nct_sf\n",
            "  return np.clip(_boost._nct_sf(x, df, nc), 0, 1)\n",
            "/usr/local/lib/python3.9/dist-packages/scipy/stats/_continuous_distns.py:6826: RuntimeWarning: invalid value encountered in _nct_cdf\n",
            "  return np.clip(_boost._nct_cdf(x, df, nc), 0, 1)\n"
          ]
        },
        {
          "output_type": "execute_result",
          "data": {
            "text/plain": [
              "(141971, 141960)"
            ]
          },
          "metadata": {},
          "execution_count": 10
        }
      ]
    },
    {
      "cell_type": "code",
      "source": [
        "DAU = 20000"
      ],
      "metadata": {
        "id": "CWlwNCQmrTWp"
      },
      "execution_count": 11,
      "outputs": []
    },
    {
      "cell_type": "code",
      "source": [
        "res = 141971 / DAU\n",
        "res"
      ],
      "metadata": {
        "colab": {
          "base_uri": "https://localhost:8080/"
        },
        "id": "Od8VELkkrTsF",
        "outputId": "b2cb69e1-4332-4d26-81d6-16370f100f65"
      },
      "execution_count": 12,
      "outputs": [
        {
          "output_type": "execute_result",
          "data": {
            "text/plain": [
              "7.09855"
            ]
          },
          "metadata": {},
          "execution_count": 12
        }
      ]
    },
    {
      "cell_type": "markdown",
      "source": [
        "Ответ: длительность теста должна быть 7 дней"
      ],
      "metadata": {
        "id": "K83HzfUWrbGJ"
      }
    },
    {
      "cell_type": "markdown",
      "source": [
        "**Задача 2**\n",
        "Наша продуктовая команда в ecommerce магазине планирует запустить тест, направленный на ускорение загрузки сайта. Одна из основных метрик bounce rate в GA = 40%. Мы предполагаем, что при оптимизации сайта она изменится минимум на 20%.Средний трафик 4000 человек в день. Посчитайте сколько нам нужно дней держать эксперимент при alpha = 5% и beta = 20%"
      ],
      "metadata": {
        "id": "8Yt1wJXlmibe"
      }
    },
    {
      "cell_type": "markdown",
      "source": [
        "Отказы показатель качественный, т к проценты"
      ],
      "metadata": {
        "id": "1eluOr3mv7a6"
      }
    },
    {
      "cell_type": "code",
      "source": [
        "BR_1, BR_2 = 0.40, 0.32\n",
        "\n",
        "es_prop = calc_proportion_es(BR_1, BR_2)\n",
        "es_prop"
      ],
      "metadata": {
        "colab": {
          "base_uri": "https://localhost:8080/"
        },
        "id": "cghy5qtUq2cZ",
        "outputId": "805d3c4f-3336-4fe1-e1ec-c38c3310f1a9"
      },
      "execution_count": 13,
      "outputs": [
        {
          "output_type": "execute_result",
          "data": {
            "text/plain": [
              "0.16690997264630925"
            ]
          },
          "metadata": {},
          "execution_count": 13
        }
      ]
    },
    {
      "cell_type": "code",
      "source": [
        "calc_sample_size_proportion(es_prop)"
      ],
      "metadata": {
        "colab": {
          "base_uri": "https://localhost:8080/"
        },
        "id": "tois1tsttYEz",
        "outputId": "376a75c7-5b88-4c9d-f676-f801b08de8f1"
      },
      "execution_count": 14,
      "outputs": [
        {
          "output_type": "execute_result",
          "data": {
            "text/plain": [
              "1126"
            ]
          },
          "metadata": {},
          "execution_count": 14
        }
      ]
    },
    {
      "cell_type": "code",
      "source": [
        "DAU = 4000"
      ],
      "metadata": {
        "id": "-HPud855rxKP"
      },
      "execution_count": 15,
      "outputs": []
    },
    {
      "cell_type": "code",
      "source": [
        "res = 1126 / DAU\n",
        "res"
      ],
      "metadata": {
        "colab": {
          "base_uri": "https://localhost:8080/"
        },
        "id": "CDesQ5BJrz6v",
        "outputId": "818706be-22f7-4c2f-90cb-bf9e511844c3"
      },
      "execution_count": 16,
      "outputs": [
        {
          "output_type": "execute_result",
          "data": {
            "text/plain": [
              "0.2815"
            ]
          },
          "metadata": {},
          "execution_count": 16
        }
      ]
    },
    {
      "cell_type": "markdown",
      "source": [
        "Ответ: длительность теста должна быть 0.28 дня"
      ],
      "metadata": {
        "id": "R6J4Tr70r1Q9"
      }
    }
  ]
}